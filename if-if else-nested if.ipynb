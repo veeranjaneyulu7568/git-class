{
 "cells": [
  {
   "cell_type": "code",
   "execution_count": 6,
   "metadata": {},
   "outputs": [
    {
     "name": "stdout",
     "output_type": "stream",
     "text": [
      "Number is positive\n",
      "This statement always executes\n"
     ]
    }
   ],
   "source": [
    "number = 5\n",
    "\n",
    "# check if number is greater than 0\n",
    "if number > 0:\n",
    "    print('Number is positive')\n",
    "\n",
    "print('This statement always executes')"
   ]
  },
  {
   "cell_type": "code",
   "execution_count": 1,
   "metadata": {},
   "outputs": [
    {
     "name": "stdout",
     "output_type": "stream",
     "text": [
      "number is negative\n"
     ]
    }
   ],
   "source": [
    "number=10\n",
    "if number>12:\n",
    "    print('number is possitive')\n",
    "else:\n",
    "    print('number is negative')\n"
   ]
  },
  {
   "cell_type": "code",
   "execution_count": 2,
   "metadata": {},
   "outputs": [
    {
     "name": "stdout",
     "output_type": "stream",
     "text": [
      "zero\n",
      "hero\n"
     ]
    }
   ],
   "source": [
    "number=0\n",
    "if number <0:\n",
    "    print('positive number')\n",
    "elif  number >0 :\n",
    "    print('number is negative')\n",
    "else:\n",
    "    print('zero')\n",
    "    print('hero')\n",
    "\n",
    "          "
   ]
  },
  {
   "cell_type": "code",
   "execution_count": 5,
   "metadata": {},
   "outputs": [
    {
     "name": "stdout",
     "output_type": "stream",
     "text": [
      "you are pass: 40\n",
      " you are excelent: 40\n"
     ]
    }
   ],
   "source": [
    "marks= 40\n",
    "if marks >35:\n",
    "    print(\"you are pass:\",marks)\n",
    "    if marks >50 and marks <65:\n",
    "        print(\"you are the best:\",marks)\n",
    "    elif marks>65 and marks <85:\n",
    "        print(\"you are the supper best:\",marks)\n",
    "    else :\n",
    "         print(\" you are excelent:\",marks)\n",
    "\n",
    "elif marks<35:\n",
    "    print(\" you are fail:\",marks)\n",
    "else:\n",
    "    print(\"win the match:\",marks)  \n"
   ]
  }
 ],
 "metadata": {
  "kernelspec": {
   "display_name": "Python 3",
   "language": "python",
   "name": "python3"
  },
  "language_info": {
   "codemirror_mode": {
    "name": "ipython",
    "version": 3
   },
   "file_extension": ".py",
   "mimetype": "text/x-python",
   "name": "python",
   "nbconvert_exporter": "python",
   "pygments_lexer": "ipython3",
   "version": "3.12.2"
  }
 },
 "nbformat": 4,
 "nbformat_minor": 2
}
