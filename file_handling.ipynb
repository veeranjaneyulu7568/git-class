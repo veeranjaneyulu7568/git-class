{
 "cells": [
  {
   "cell_type": "code",
   "execution_count": 2,
   "metadata": {},
   "outputs": [
    {
     "name": "stdout",
     "output_type": "stream",
     "text": [
      " name changed by veera name changed by veera reversed reversed\n"
     ]
    }
   ],
   "source": [
    "s=open('work.text',mode='r')\n",
    "print(s.read())\n",
    "s.close()\n",
    "\n",
    "s=open('work.text',mode='w')\n",
    "s.write(' reversed')\n",
    "s.close()\n",
    "\n",
    "s=open('work.text',mode='a')\n",
    "s.write(' reversed')\n",
    "s.close()\n",
    "\n"
   ]
  },
  {
   "cell_type": "markdown",
   "metadata": {},
   "source": []
  }
 ],
 "metadata": {
  "kernelspec": {
   "display_name": "Python 3",
   "language": "python",
   "name": "python3"
  },
  "language_info": {
   "codemirror_mode": {
    "name": "ipython",
    "version": 3
   },
   "file_extension": ".py",
   "mimetype": "text/x-python",
   "name": "python",
   "nbconvert_exporter": "python",
   "pygments_lexer": "ipython3",
   "version": "3.12.2"
  }
 },
 "nbformat": 4,
 "nbformat_minor": 2
}
