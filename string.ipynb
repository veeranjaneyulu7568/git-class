{
 "cells": [
  {
   "cell_type": "code",
   "execution_count": 21,
   "metadata": {},
   "outputs": [
    {
     "name": "stdout",
     "output_type": "stream",
     "text": [
      "variable\n",
      "i love lsg\n",
      "p\n",
      "v\n",
      "e\n",
      "e\n",
      "r\n",
      "a\n",
      "9\n"
     ]
    }
   ],
   "source": [
    "# string type variable\n",
    "\n",
    "name = 'variable'\n",
    "print(name)\n",
    "\n",
    "message = \"i love lsg\"\n",
    "print(message)\n",
    "\n",
    "code = \"python\"\n",
    "print(code[0])\n",
    "\n",
    "# iterate through a string\n",
    "name=\"veera\"\n",
    "for i in name:\n",
    "    print(i)\n",
    "\n",
    "name = 'world war'\n",
    "print(len(name))\n",
    "\n",
    "\n",
    "\n",
    "\n",
    "\n"
   ]
  },
  {
   "cell_type": "code",
   "execution_count": 8,
   "metadata": {},
   "outputs": [
    {
     "name": "stdout",
     "output_type": "stream",
     "text": [
      "Index of H:  0\n",
      "Index of e:  1\n",
      "Index of l:  2\n",
      "Index of World:  6\n"
     ]
    }
   ],
   "source": [
    "# index\n",
    "greet='Hello World!'\n",
    "print('Index of H: ', greet.index('H'))\n",
    "print('Index of e: ', greet.index('e'))\n",
    "print('Index of l: ', greet.index('l'))\n",
    "print('Index of World: ', greet.index('World'))\n"
   ]
  },
  {
   "cell_type": "code",
   "execution_count": 10,
   "metadata": {},
   "outputs": [
    {
     "name": "stdout",
     "output_type": "stream",
     "text": [
      "2\n",
      "2\n"
     ]
    }
   ],
   "source": [
    "name = \"veera is name and veera is best\"\n",
    "print(name.count('veera'))\n",
    "print(name.count('is'))"
   ]
  },
  {
   "cell_type": "code",
   "execution_count": 12,
   "metadata": {},
   "outputs": [
    {
     "name": "stdout",
     "output_type": "stream",
     "text": [
      "hello\n",
      "VEERA\n"
     ]
    }
   ],
   "source": [
    "name = \"HELLO\"\n",
    "print(name.lower())\n",
    "\n",
    "a = \"veera\"\n",
    "print(a.upper())"
   ]
  },
  {
   "cell_type": "code",
   "execution_count": 18,
   "metadata": {},
   "outputs": [
    {
     "name": "stdout",
     "output_type": "stream",
     "text": [
      "['hello', 'world']\n",
      "veera,rani\n"
     ]
    }
   ],
   "source": [
    "name = \"hello world\"\n",
    "print(name.split())\n",
    "\n",
    "book = [\"veera\",\"rani\"]\n",
    "set =','\n",
    "print(set.join(book))"
   ]
  },
  {
   "cell_type": "code",
   "execution_count": 19,
   "metadata": {},
   "outputs": [
    {
     "name": "stdout",
     "output_type": "stream",
     "text": [
      "True\n",
      "True\n",
      "True\n",
      "True\n",
      "True\n"
     ]
    }
   ],
   "source": [
    "mystr = 'Hello World'\n",
    "\n",
    "print(mystr.startswith('H'))\n",
    "print(mystr.startswith('He'))\n",
    "print(mystr.startswith('Hello'))\n",
    "print(mystr.startswith('Hello W'))\n",
    "print(mystr.startswith('Hello World'))"
   ]
  },
  {
   "cell_type": "code",
   "execution_count": 20,
   "metadata": {},
   "outputs": [
    {
     "name": "stdout",
     "output_type": "stream",
     "text": [
      "True\n",
      "True\n",
      "True\n",
      "True\n",
      "False\n"
     ]
    }
   ],
   "source": [
    "mystr = 'Python is a  programming language.'\n",
    "\n",
    "print(mystr.endswith('.')) \n",
    "print(mystr.endswith('age.')) \n",
    "print(mystr.endswith('language.')) \n",
    "print(mystr.endswith(' programming language.')) \n",
    "print(mystr.endswith('age')) "
   ]
  }
 ],
 "metadata": {
  "kernelspec": {
   "display_name": "Python 3",
   "language": "python",
   "name": "python3"
  },
  "language_info": {
   "codemirror_mode": {
    "name": "ipython",
    "version": 3
   },
   "file_extension": ".py",
   "mimetype": "text/x-python",
   "name": "python",
   "nbconvert_exporter": "python",
   "pygments_lexer": "ipython3",
   "version": "3.12.2"
  }
 },
 "nbformat": 4,
 "nbformat_minor": 2
}
